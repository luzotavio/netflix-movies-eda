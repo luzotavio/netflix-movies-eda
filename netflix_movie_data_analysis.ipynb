{
 "cells": [
  {
   "cell_type": "markdown",
   "id": "681e44be",
   "metadata": {},
   "source": [
    "# Análise Exploratória de Dados: Dataset de Filmes Netflix\n",
    "\n",
    "### Introdução e Objetivo do Projeto\n",
    "\n",
    "Este notebook documenta a Análise Exploratória de Dados (EDA) realizada sobre um dataset contendo informações de mais de 9.000 filmes. O objetivo principal é extrair insights a partir das features disponíveis, como gênero, popularidade, contagem de votos e data de lançamento.\n",
    "\n",
    "A análise visa responder a questões de negócio específicas que podem auxiliar na tomada de decisão estratégica da empresa, como a otimização de investimentos em produção de conteúdo e a compreensão das preferências do público.\n",
    "\n",
    "---\n",
    "### Escopo da Análise e Questões de Negócio\n",
    "\n",
    "A investigação será guiada pelas seguintes questões centrais:\n",
    "\n",
    "1.  **Distribuição de Gêneros:** Identificar a frequência de cada gênero no dataset para compreender a composição do catálogo e as categorias predominantes.\n",
    "\n",
    "2.  **Engajamento por Gênero:** Analisar a contagem total de votos (`Vote_Count`) por gênero para determinar quais categorias geram maior volume de interação do público.\n",
    "\n",
    "3.  **Análise de Popularidade Máxima:** Isolar o filme com a maior métrica de popularidade e identificar seu gênero associado, a fim de reconhecer os atributos de produções de maior sucesso.\n",
    "\n",
    "4.  **Análise de Popularidade Mínima:** Identificar o filme com o menor índice de popularidade e seu gênero, para analisar possíveis outliers negativos ou conteúdos de nicho com menor alcance.\n",
    "\n",
    "5.  **Tendência de Produção Anual:** Determinar o ano com o maior volume de filmes lançados para identificar picos históricos de produção na indústria cinematográfica.\n",
    "\n",
    "O pipeline a seguir inclui as etapas de carregamento, pré-processamento, limpeza dos dados e, finalmente, a visualização dos resultados para responder a estas questões."
   ]
  },
  {
   "cell_type": "code",
   "execution_count": 1,
   "id": "046fb351",
   "metadata": {},
   "outputs": [
    {
     "data": {
      "text/html": [
       "<div>\n",
       "<style scoped>\n",
       "    .dataframe tbody tr th:only-of-type {\n",
       "        vertical-align: middle;\n",
       "    }\n",
       "\n",
       "    .dataframe tbody tr th {\n",
       "        vertical-align: top;\n",
       "    }\n",
       "\n",
       "    .dataframe thead th {\n",
       "        text-align: right;\n",
       "    }\n",
       "</style>\n",
       "<table border=\"1\" class=\"dataframe\">\n",
       "  <thead>\n",
       "    <tr style=\"text-align: right;\">\n",
       "      <th></th>\n",
       "      <th>Release_Date</th>\n",
       "      <th>Title</th>\n",
       "      <th>Overview</th>\n",
       "      <th>Popularity</th>\n",
       "      <th>Vote_Count</th>\n",
       "      <th>Vote_Average</th>\n",
       "      <th>Original_Language</th>\n",
       "      <th>Genre</th>\n",
       "      <th>Poster_Url</th>\n",
       "    </tr>\n",
       "  </thead>\n",
       "  <tbody>\n",
       "    <tr>\n",
       "      <th>0</th>\n",
       "      <td>2021-12-15</td>\n",
       "      <td>Spider-Man: No Way Home</td>\n",
       "      <td>Peter Parker is unmasked and no longer able to...</td>\n",
       "      <td>5083.954</td>\n",
       "      <td>8940</td>\n",
       "      <td>8.3</td>\n",
       "      <td>en</td>\n",
       "      <td>Action, Adventure, Science Fiction</td>\n",
       "      <td>https://image.tmdb.org/t/p/original/1g0dhYtq4i...</td>\n",
       "    </tr>\n",
       "    <tr>\n",
       "      <th>1</th>\n",
       "      <td>2022-03-01</td>\n",
       "      <td>The Batman</td>\n",
       "      <td>In his second year of fighting crime, Batman u...</td>\n",
       "      <td>3827.658</td>\n",
       "      <td>1151</td>\n",
       "      <td>8.1</td>\n",
       "      <td>en</td>\n",
       "      <td>Crime, Mystery, Thriller</td>\n",
       "      <td>https://image.tmdb.org/t/p/original/74xTEgt7R3...</td>\n",
       "    </tr>\n",
       "    <tr>\n",
       "      <th>2</th>\n",
       "      <td>2022-02-25</td>\n",
       "      <td>No Exit</td>\n",
       "      <td>Stranded at a rest stop in the mountains durin...</td>\n",
       "      <td>2618.087</td>\n",
       "      <td>122</td>\n",
       "      <td>6.3</td>\n",
       "      <td>en</td>\n",
       "      <td>Thriller</td>\n",
       "      <td>https://image.tmdb.org/t/p/original/vDHsLnOWKl...</td>\n",
       "    </tr>\n",
       "    <tr>\n",
       "      <th>3</th>\n",
       "      <td>2021-11-24</td>\n",
       "      <td>Encanto</td>\n",
       "      <td>The tale of an extraordinary family, the Madri...</td>\n",
       "      <td>2402.201</td>\n",
       "      <td>5076</td>\n",
       "      <td>7.7</td>\n",
       "      <td>en</td>\n",
       "      <td>Animation, Comedy, Family, Fantasy</td>\n",
       "      <td>https://image.tmdb.org/t/p/original/4j0PNHkMr5...</td>\n",
       "    </tr>\n",
       "    <tr>\n",
       "      <th>4</th>\n",
       "      <td>2021-12-22</td>\n",
       "      <td>The King's Man</td>\n",
       "      <td>As a collection of history's worst tyrants and...</td>\n",
       "      <td>1895.511</td>\n",
       "      <td>1793</td>\n",
       "      <td>7.0</td>\n",
       "      <td>en</td>\n",
       "      <td>Action, Adventure, Thriller, War</td>\n",
       "      <td>https://image.tmdb.org/t/p/original/aq4Pwv5Xeu...</td>\n",
       "    </tr>\n",
       "  </tbody>\n",
       "</table>\n",
       "</div>"
      ],
      "text/plain": [
       "  Release_Date                    Title  \\\n",
       "0   2021-12-15  Spider-Man: No Way Home   \n",
       "1   2022-03-01               The Batman   \n",
       "2   2022-02-25                  No Exit   \n",
       "3   2021-11-24                  Encanto   \n",
       "4   2021-12-22           The King's Man   \n",
       "\n",
       "                                            Overview  Popularity  Vote_Count  \\\n",
       "0  Peter Parker is unmasked and no longer able to...    5083.954        8940   \n",
       "1  In his second year of fighting crime, Batman u...    3827.658        1151   \n",
       "2  Stranded at a rest stop in the mountains durin...    2618.087         122   \n",
       "3  The tale of an extraordinary family, the Madri...    2402.201        5076   \n",
       "4  As a collection of history's worst tyrants and...    1895.511        1793   \n",
       "\n",
       "   Vote_Average Original_Language                               Genre  \\\n",
       "0           8.3                en  Action, Adventure, Science Fiction   \n",
       "1           8.1                en            Crime, Mystery, Thriller   \n",
       "2           6.3                en                            Thriller   \n",
       "3           7.7                en  Animation, Comedy, Family, Fantasy   \n",
       "4           7.0                en    Action, Adventure, Thriller, War   \n",
       "\n",
       "                                          Poster_Url  \n",
       "0  https://image.tmdb.org/t/p/original/1g0dhYtq4i...  \n",
       "1  https://image.tmdb.org/t/p/original/74xTEgt7R3...  \n",
       "2  https://image.tmdb.org/t/p/original/vDHsLnOWKl...  \n",
       "3  https://image.tmdb.org/t/p/original/4j0PNHkMr5...  \n",
       "4  https://image.tmdb.org/t/p/original/aq4Pwv5Xeu...  "
      ]
     },
     "execution_count": 1,
     "metadata": {},
     "output_type": "execute_result"
    }
   ],
   "source": [
    "# Importa as bibliotecas necessárias para análise e visualização.\n",
    "import numpy as np\n",
    "import pandas as pd\n",
    "import matplotlib.pyplot as plt\n",
    "import seaborn as sns\n",
    "\n",
    "# Carrega o dataset do arquivo CSV para um DataFrame.\n",
    "df = pd.read_csv('Data/mymoviedb.csv', lineterminator='\\n')\n",
    "\n",
    "# Exibe as 5 primeiras linhas do DataFrame.\n",
    "df.head()\n"
   ]
  },
  {
   "cell_type": "code",
   "execution_count": 2,
   "id": "8298b8d3",
   "metadata": {},
   "outputs": [
    {
     "name": "stdout",
     "output_type": "stream",
     "text": [
      "<class 'pandas.core.frame.DataFrame'>\n",
      "RangeIndex: 9827 entries, 0 to 9826\n",
      "Data columns (total 9 columns):\n",
      " #   Column             Non-Null Count  Dtype  \n",
      "---  ------             --------------  -----  \n",
      " 0   Release_Date       9827 non-null   object \n",
      " 1   Title              9827 non-null   object \n",
      " 2   Overview           9827 non-null   object \n",
      " 3   Popularity         9827 non-null   float64\n",
      " 4   Vote_Count         9827 non-null   int64  \n",
      " 5   Vote_Average       9827 non-null   float64\n",
      " 6   Original_Language  9827 non-null   object \n",
      " 7   Genre              9827 non-null   object \n",
      " 8   Poster_Url         9827 non-null   object \n",
      "dtypes: float64(2), int64(1), object(6)\n",
      "memory usage: 691.1+ KB\n"
     ]
    }
   ],
   "source": [
    "# Exibe um resumo conciso do DataFrame.\n",
    "# Isso inclui o tipo de cada coluna, a contagem de valores não-nulos e o uso de memória.\n",
    "df.info()\n"
   ]
  },
  {
   "cell_type": "code",
   "execution_count": 3,
   "id": "14e9b3b0",
   "metadata": {},
   "outputs": [
    {
     "data": {
      "text/plain": [
       "0"
      ]
     },
     "execution_count": 3,
     "metadata": {},
     "output_type": "execute_result"
    }
   ],
   "source": [
    "# Conta o número total de linhas duplicadas no DataFrame.\n",
    "df.duplicated().sum()"
   ]
  },
  {
   "cell_type": "code",
   "execution_count": 4,
   "id": "fbe94761",
   "metadata": {},
   "outputs": [
    {
     "data": {
      "text/html": [
       "<div>\n",
       "<style scoped>\n",
       "    .dataframe tbody tr th:only-of-type {\n",
       "        vertical-align: middle;\n",
       "    }\n",
       "\n",
       "    .dataframe tbody tr th {\n",
       "        vertical-align: top;\n",
       "    }\n",
       "\n",
       "    .dataframe thead th {\n",
       "        text-align: right;\n",
       "    }\n",
       "</style>\n",
       "<table border=\"1\" class=\"dataframe\">\n",
       "  <thead>\n",
       "    <tr style=\"text-align: right;\">\n",
       "      <th></th>\n",
       "      <th>Popularity</th>\n",
       "      <th>Vote_Count</th>\n",
       "      <th>Vote_Average</th>\n",
       "    </tr>\n",
       "  </thead>\n",
       "  <tbody>\n",
       "    <tr>\n",
       "      <th>count</th>\n",
       "      <td>9827.000000</td>\n",
       "      <td>9827.000000</td>\n",
       "      <td>9827.000000</td>\n",
       "    </tr>\n",
       "    <tr>\n",
       "      <th>mean</th>\n",
       "      <td>40.326088</td>\n",
       "      <td>1392.805536</td>\n",
       "      <td>6.439534</td>\n",
       "    </tr>\n",
       "    <tr>\n",
       "      <th>std</th>\n",
       "      <td>108.873998</td>\n",
       "      <td>2611.206907</td>\n",
       "      <td>1.129759</td>\n",
       "    </tr>\n",
       "    <tr>\n",
       "      <th>min</th>\n",
       "      <td>13.354000</td>\n",
       "      <td>0.000000</td>\n",
       "      <td>0.000000</td>\n",
       "    </tr>\n",
       "    <tr>\n",
       "      <th>25%</th>\n",
       "      <td>16.128500</td>\n",
       "      <td>146.000000</td>\n",
       "      <td>5.900000</td>\n",
       "    </tr>\n",
       "    <tr>\n",
       "      <th>50%</th>\n",
       "      <td>21.199000</td>\n",
       "      <td>444.000000</td>\n",
       "      <td>6.500000</td>\n",
       "    </tr>\n",
       "    <tr>\n",
       "      <th>75%</th>\n",
       "      <td>35.191500</td>\n",
       "      <td>1376.000000</td>\n",
       "      <td>7.100000</td>\n",
       "    </tr>\n",
       "    <tr>\n",
       "      <th>max</th>\n",
       "      <td>5083.954000</td>\n",
       "      <td>31077.000000</td>\n",
       "      <td>10.000000</td>\n",
       "    </tr>\n",
       "  </tbody>\n",
       "</table>\n",
       "</div>"
      ],
      "text/plain": [
       "        Popularity    Vote_Count  Vote_Average\n",
       "count  9827.000000   9827.000000   9827.000000\n",
       "mean     40.326088   1392.805536      6.439534\n",
       "std     108.873998   2611.206907      1.129759\n",
       "min      13.354000      0.000000      0.000000\n",
       "25%      16.128500    146.000000      5.900000\n",
       "50%      21.199000    444.000000      6.500000\n",
       "75%      35.191500   1376.000000      7.100000\n",
       "max    5083.954000  31077.000000     10.000000"
      ]
     },
     "execution_count": 4,
     "metadata": {},
     "output_type": "execute_result"
    }
   ],
   "source": [
    "# Gera um resumo estatístico para as colunas numéricas do DataFrame.\n",
    "# Isso inclui contagem, média, desvio padrão, quartis, mínimo e máximo.\n",
    "df.describe()"
   ]
  },
  {
   "cell_type": "markdown",
   "id": "e1d2bcc5",
   "metadata": {},
   "source": [
    "## Planejamento da Análise e Preparação dos Dados\n",
    "\n",
    "Com base na exploração inicial, o seguinte plano de ação foi definido para preparar os dados antes de responder às questões de negócio:\n",
    "\n",
    "1.  **Tratamento da Coluna de Data (`Release_Date`):** A coluna será convertida do tipo `object` (texto) para `datetime`. Esta etapa é essencial para permitir a extração correta do ano de lançamento de cada filme.\n",
    "\n",
    "2.  **Seleção de Features (Colunas):** As colunas `Overview`, `Original_Language` e `Poster_Url` serão removidas, pois não são relevantes para responder às perguntas definidas no escopo deste projeto. A remoção otimiza o DataFrame para a análise.\n",
    "\n",
    "3.  **Categorização da Média de Votos (`Vote_Average`):** A coluna, que é numérica e contínua, será transformada em uma coluna categórica com faixas de avaliação (ex: 'Popular', 'Average'). Esta técnica, conhecida como *binning*, simplifica a análise de performance.\n",
    "\n",
    "4.  **Tratamento da Coluna de Gênero (`Genre`):** Esta é a etapa de preparação mais complexa. A coluna `Genre` contém múltiplos gêneros em uma única string. O processo será:\n",
    "    * Separar a string em uma lista de gêneros (usando `.split()`).\n",
    "    * Transformar o DataFrame para que cada gênero ocupe sua própria linha (usando `.explode()`). Este passo é fundamental para a contagem e agrupamento corretos dos gêneros."
   ]
  },
  {
   "cell_type": "code",
   "execution_count": 5,
   "id": "c02eb0db",
   "metadata": {},
   "outputs": [
    {
     "name": "stdout",
     "output_type": "stream",
     "text": [
      "datetime64[ns]\n"
     ]
    }
   ],
   "source": [
    "# Converte a coluna 'Release_Date' de texto (object) para o formato de data (datetime).\n",
    "# Isso é necessário para realizar operações com datas, como extrair o ano.\n",
    "df['Release_Date'] = pd.to_datetime(df['Release_Date'])\n",
    "\n",
    "# Imprime o novo tipo de dado da coluna para confirmar que a conversão foi bem-sucedida.\n",
    "print(df['Release_Date'].dtypes)"
   ]
  },
  {
   "cell_type": "code",
   "execution_count": 6,
   "id": "ffd7183d",
   "metadata": {},
   "outputs": [
    {
     "data": {
      "text/plain": [
       "0       2021\n",
       "1       2022\n",
       "2       2022\n",
       "3       2021\n",
       "4       2021\n",
       "        ... \n",
       "9822    1973\n",
       "9823    2020\n",
       "9824    2016\n",
       "9825    2021\n",
       "9826    1984\n",
       "Name: Release_Date, Length: 9827, dtype: int32"
      ]
     },
     "execution_count": 6,
     "metadata": {},
     "output_type": "execute_result"
    }
   ],
   "source": [
    "# Acessa as propriedades de data (.dt) da coluna e extrai apenas o ano (.year).\n",
    "# A coluna 'Release_Date', que antes continha a data completa, agora conterá apenas o ano como um número.\n",
    "df['Release_Date'] = df['Release_Date'].dt.year\n",
    "\n",
    "# Exibe o conteúdo da coluna para verificar se a transformação foi bem-sucedida.\n",
    "# Em um notebook, esta linha mostrará as primeiras e últimas linhas da coluna.\n",
    "df['Release_Date']"
   ]
  },
  {
   "cell_type": "markdown",
   "id": "f57bd51a",
   "metadata": {},
   "source": [
    "## Exclusão de Colunas (Feature Selection)\n",
    "\n",
    "Nesta etapa, removeremos as colunas que não são relevantes para responder às questões de negócio deste projeto. A remoção de features desnecessárias é uma boa prática que simplifica o DataFrame, otimiza o uso de memória e foca a análise nos dados que realmente importam.\n",
    "\n",
    "As colunas a serem removidas são: `Overview`, `Original_Language` e `Poster_Url`."
   ]
  },
  {
   "cell_type": "code",
   "execution_count": 7,
   "id": "9bf67dd6",
   "metadata": {},
   "outputs": [
    {
     "data": {
      "text/html": [
       "<div>\n",
       "<style scoped>\n",
       "    .dataframe tbody tr th:only-of-type {\n",
       "        vertical-align: middle;\n",
       "    }\n",
       "\n",
       "    .dataframe tbody tr th {\n",
       "        vertical-align: top;\n",
       "    }\n",
       "\n",
       "    .dataframe thead th {\n",
       "        text-align: right;\n",
       "    }\n",
       "</style>\n",
       "<table border=\"1\" class=\"dataframe\">\n",
       "  <thead>\n",
       "    <tr style=\"text-align: right;\">\n",
       "      <th></th>\n",
       "      <th>Release_Date</th>\n",
       "      <th>Title</th>\n",
       "      <th>Popularity</th>\n",
       "      <th>Vote_Count</th>\n",
       "      <th>Vote_Average</th>\n",
       "      <th>Genre</th>\n",
       "    </tr>\n",
       "  </thead>\n",
       "  <tbody>\n",
       "    <tr>\n",
       "      <th>0</th>\n",
       "      <td>2021</td>\n",
       "      <td>Spider-Man: No Way Home</td>\n",
       "      <td>5083.954</td>\n",
       "      <td>8940</td>\n",
       "      <td>8.3</td>\n",
       "      <td>Action, Adventure, Science Fiction</td>\n",
       "    </tr>\n",
       "    <tr>\n",
       "      <th>1</th>\n",
       "      <td>2022</td>\n",
       "      <td>The Batman</td>\n",
       "      <td>3827.658</td>\n",
       "      <td>1151</td>\n",
       "      <td>8.1</td>\n",
       "      <td>Crime, Mystery, Thriller</td>\n",
       "    </tr>\n",
       "    <tr>\n",
       "      <th>2</th>\n",
       "      <td>2022</td>\n",
       "      <td>No Exit</td>\n",
       "      <td>2618.087</td>\n",
       "      <td>122</td>\n",
       "      <td>6.3</td>\n",
       "      <td>Thriller</td>\n",
       "    </tr>\n",
       "    <tr>\n",
       "      <th>3</th>\n",
       "      <td>2021</td>\n",
       "      <td>Encanto</td>\n",
       "      <td>2402.201</td>\n",
       "      <td>5076</td>\n",
       "      <td>7.7</td>\n",
       "      <td>Animation, Comedy, Family, Fantasy</td>\n",
       "    </tr>\n",
       "    <tr>\n",
       "      <th>4</th>\n",
       "      <td>2021</td>\n",
       "      <td>The King's Man</td>\n",
       "      <td>1895.511</td>\n",
       "      <td>1793</td>\n",
       "      <td>7.0</td>\n",
       "      <td>Action, Adventure, Thriller, War</td>\n",
       "    </tr>\n",
       "    <tr>\n",
       "      <th>...</th>\n",
       "      <td>...</td>\n",
       "      <td>...</td>\n",
       "      <td>...</td>\n",
       "      <td>...</td>\n",
       "      <td>...</td>\n",
       "      <td>...</td>\n",
       "    </tr>\n",
       "    <tr>\n",
       "      <th>9822</th>\n",
       "      <td>1973</td>\n",
       "      <td>Badlands</td>\n",
       "      <td>13.357</td>\n",
       "      <td>896</td>\n",
       "      <td>7.6</td>\n",
       "      <td>Drama, Crime</td>\n",
       "    </tr>\n",
       "    <tr>\n",
       "      <th>9823</th>\n",
       "      <td>2020</td>\n",
       "      <td>Violent Delights</td>\n",
       "      <td>13.356</td>\n",
       "      <td>8</td>\n",
       "      <td>3.5</td>\n",
       "      <td>Horror</td>\n",
       "    </tr>\n",
       "    <tr>\n",
       "      <th>9824</th>\n",
       "      <td>2016</td>\n",
       "      <td>The Offering</td>\n",
       "      <td>13.355</td>\n",
       "      <td>94</td>\n",
       "      <td>5.0</td>\n",
       "      <td>Mystery, Thriller, Horror</td>\n",
       "    </tr>\n",
       "    <tr>\n",
       "      <th>9825</th>\n",
       "      <td>2021</td>\n",
       "      <td>The United States vs. Billie Holiday</td>\n",
       "      <td>13.354</td>\n",
       "      <td>152</td>\n",
       "      <td>6.7</td>\n",
       "      <td>Music, Drama, History</td>\n",
       "    </tr>\n",
       "    <tr>\n",
       "      <th>9826</th>\n",
       "      <td>1984</td>\n",
       "      <td>Threads</td>\n",
       "      <td>13.354</td>\n",
       "      <td>186</td>\n",
       "      <td>7.8</td>\n",
       "      <td>War, Drama, Science Fiction</td>\n",
       "    </tr>\n",
       "  </tbody>\n",
       "</table>\n",
       "<p>9827 rows × 6 columns</p>\n",
       "</div>"
      ],
      "text/plain": [
       "      Release_Date                                 Title  Popularity  \\\n",
       "0             2021               Spider-Man: No Way Home    5083.954   \n",
       "1             2022                            The Batman    3827.658   \n",
       "2             2022                               No Exit    2618.087   \n",
       "3             2021                               Encanto    2402.201   \n",
       "4             2021                        The King's Man    1895.511   \n",
       "...            ...                                   ...         ...   \n",
       "9822          1973                              Badlands      13.357   \n",
       "9823          2020                      Violent Delights      13.356   \n",
       "9824          2016                          The Offering      13.355   \n",
       "9825          2021  The United States vs. Billie Holiday      13.354   \n",
       "9826          1984                               Threads      13.354   \n",
       "\n",
       "      Vote_Count  Vote_Average                               Genre  \n",
       "0           8940           8.3  Action, Adventure, Science Fiction  \n",
       "1           1151           8.1            Crime, Mystery, Thriller  \n",
       "2            122           6.3                            Thriller  \n",
       "3           5076           7.7  Animation, Comedy, Family, Fantasy  \n",
       "4           1793           7.0    Action, Adventure, Thriller, War  \n",
       "...          ...           ...                                 ...  \n",
       "9822         896           7.6                        Drama, Crime  \n",
       "9823           8           3.5                              Horror  \n",
       "9824          94           5.0           Mystery, Thriller, Horror  \n",
       "9825         152           6.7               Music, Drama, History  \n",
       "9826         186           7.8         War, Drama, Science Fiction  \n",
       "\n",
       "[9827 rows x 6 columns]"
      ]
     },
     "execution_count": 7,
     "metadata": {},
     "output_type": "execute_result"
    }
   ],
   "source": [
    "# Cria uma lista contendo os nomes das colunas que serão removidas.\n",
    "cols = ['Overview', 'Original_Language', 'Poster_Url']\n",
    "\n",
    "# Remove as colunas especificadas do DataFrame.\n",
    "# 'axis=1' informa que estamos removendo colunas (e não linhas).\n",
    "# 'inplace=True' aplica a mudança diretamente no DataFrame 'df'.\n",
    "df.drop(cols, axis=1, inplace=True)\n",
    "\n",
    "# Exibe o DataFrame atualizado para verificar se as colunas foram removidas.\n",
    "df"
   ]
  },
  {
   "cell_type": "markdown",
   "id": "4155c272",
   "metadata": {},
   "source": [
    "## Categorização da Coluna 'Vote_Average'\n",
    "\n",
    "Nesta etapa, a coluna numérica e contínua `Vote_Average` será convertida em uma coluna categórica. Este processo, conhecido como *binning* (ou discretização), agrupa os valores em faixas, o que simplifica a análise e a criação de visualizações.\n",
    "\n",
    "Para esta tarefa, serão criadas quatro categorias distintas baseadas nos quartis da distribuição dos dados: `popular`, `average`, `below_avg` e `not_popular`. A transformação será executada utilizando a função `categorize_col()`."
   ]
  },
  {
   "cell_type": "code",
   "execution_count": 8,
   "id": "abb0443f",
   "metadata": {},
   "outputs": [
    {
     "data": {
      "text/plain": [
       "['popular', 'below_avg', 'average', 'not_popular']\n",
       "Categories (4, object): ['not_popular' < 'below_avg' < 'average' < 'popular']"
      ]
     },
     "execution_count": 8,
     "metadata": {},
     "output_type": "execute_result"
    }
   ],
   "source": [
    "# Define a função que categoriza uma coluna numérica em 4 grupos (quartis).\n",
    "def categorize_col(df, col, labels):\n",
    "    # Cria os 5 limites (bordas) para os 4 grupos usando os valores de mínimo, máximo e quartis.\n",
    "    edges = [df[col].describe()['min'],\n",
    "             df[col].describe()['25%'],\n",
    "             df[col].describe()['50%'],\n",
    "             df[col].describe()['75%'],\n",
    "             df[col].describe()['max']]\n",
    "    \n",
    "    # Usa a função pd.cut para aplicar as categorias baseadas nos limites e rótulos.\n",
    "    # include_lowest=True garante que o menor valor seja incluído na primeira categoria.\n",
    "    df[col] = pd.cut(df[col], edges, labels=labels, duplicates='drop', include_lowest=True)\n",
    "    \n",
    "    # Retorna o DataFrame modificado.\n",
    "    return df\n",
    "\n",
    "# Cria a lista de rótulos (nomes) para as novas categorias.\n",
    "labels = ['not_popular', 'below_avg', 'average', 'popular']\n",
    "\n",
    "# Executa a função na coluna 'Vote_Average', aplicando a categorização.\n",
    "categorize_col(df, 'Vote_Average', labels)\n",
    "\n",
    "# Exibe os valores únicos da coluna 'Vote_Average' para verificar se\n",
    "# a transformação foi bem-sucedida e as categorias foram criadas.\n",
    "df['Vote_Average'].unique()"
   ]
  },
  {
   "cell_type": "code",
   "execution_count": 9,
   "id": "63c12b8e",
   "metadata": {},
   "outputs": [
    {
     "data": {
      "text/plain": [
       "Vote_Average\n",
       "not_popular    2567\n",
       "popular        2450\n",
       "average        2412\n",
       "below_avg      2398\n",
       "Name: count, dtype: int64"
      ]
     },
     "execution_count": 9,
     "metadata": {},
     "output_type": "execute_result"
    }
   ],
   "source": [
    "# Conta a quantidade de filmes em cada uma das categorias criadas para 'Vote_Average'.\n",
    "# Isso mostra a distribuição dos filmes entre as faixas de avaliação ('popular', 'average', etc.).\n",
    "df['Vote_Average'].value_counts()"
   ]
  },
  {
   "cell_type": "code",
   "execution_count": 10,
   "id": "16afe443",
   "metadata": {},
   "outputs": [
    {
     "data": {
      "text/plain": [
       "Release_Date    0\n",
       "Title           0\n",
       "Popularity      0\n",
       "Vote_Count      0\n",
       "Vote_Average    0\n",
       "Genre           0\n",
       "dtype: int64"
      ]
     },
     "execution_count": 10,
     "metadata": {},
     "output_type": "execute_result"
    }
   ],
   "source": [
    "# Remove todas as linhas que contêm qualquer valor nulo (NaN).\n",
    "# O parâmetro 'inplace=True' aplica a alteração diretamente no DataFrame.\n",
    "df.dropna(inplace=True)\n",
    "\n",
    "# Verifica novamente a soma de valores nulos por coluna.\n",
    "# Isso é feito para confirmar que a remoção foi bem-sucedida.\n",
    "df.isna().sum()"
   ]
  },
  {
   "cell_type": "markdown",
   "id": "d519427d",
   "metadata": {},
   "source": [
    "## Tratamento e Transformação da Coluna 'Genre'\n",
    "\n",
    "Esta é a etapa de preparação mais importante para a análise. A coluna `Genre` contém múltiplos gêneros em uma única string (ex: \"Action, Adventure, Comedy\"), o que impede a contagem ou agrupamento individual.\n",
    "\n",
    "O processo será dividido em duas etapas principais:\n",
    "1.  **Split:** A string de cada linha será \"quebrada\" em uma lista de gêneros.\n",
    "2.  **Explode:** O DataFrame será \"explodido\", de forma que cada gênero na lista criada ocupe sua própria linha, duplicando as outras informações do filme."
   ]
  },
  {
   "cell_type": "code",
   "execution_count": 11,
   "id": "a7cf46f0",
   "metadata": {},
   "outputs": [
    {
     "data": {
      "text/html": [
       "<div>\n",
       "<style scoped>\n",
       "    .dataframe tbody tr th:only-of-type {\n",
       "        vertical-align: middle;\n",
       "    }\n",
       "\n",
       "    .dataframe tbody tr th {\n",
       "        vertical-align: top;\n",
       "    }\n",
       "\n",
       "    .dataframe thead th {\n",
       "        text-align: right;\n",
       "    }\n",
       "</style>\n",
       "<table border=\"1\" class=\"dataframe\">\n",
       "  <thead>\n",
       "    <tr style=\"text-align: right;\">\n",
       "      <th></th>\n",
       "      <th>Release_Date</th>\n",
       "      <th>Title</th>\n",
       "      <th>Popularity</th>\n",
       "      <th>Vote_Count</th>\n",
       "      <th>Vote_Average</th>\n",
       "      <th>Genre</th>\n",
       "    </tr>\n",
       "  </thead>\n",
       "  <tbody>\n",
       "    <tr>\n",
       "      <th>0</th>\n",
       "      <td>2021</td>\n",
       "      <td>Spider-Man: No Way Home</td>\n",
       "      <td>5083.954</td>\n",
       "      <td>8940</td>\n",
       "      <td>popular</td>\n",
       "      <td>Action</td>\n",
       "    </tr>\n",
       "    <tr>\n",
       "      <th>1</th>\n",
       "      <td>2021</td>\n",
       "      <td>Spider-Man: No Way Home</td>\n",
       "      <td>5083.954</td>\n",
       "      <td>8940</td>\n",
       "      <td>popular</td>\n",
       "      <td>Adventure</td>\n",
       "    </tr>\n",
       "    <tr>\n",
       "      <th>2</th>\n",
       "      <td>2021</td>\n",
       "      <td>Spider-Man: No Way Home</td>\n",
       "      <td>5083.954</td>\n",
       "      <td>8940</td>\n",
       "      <td>popular</td>\n",
       "      <td>Science Fiction</td>\n",
       "    </tr>\n",
       "    <tr>\n",
       "      <th>3</th>\n",
       "      <td>2022</td>\n",
       "      <td>The Batman</td>\n",
       "      <td>3827.658</td>\n",
       "      <td>1151</td>\n",
       "      <td>popular</td>\n",
       "      <td>Crime</td>\n",
       "    </tr>\n",
       "    <tr>\n",
       "      <th>4</th>\n",
       "      <td>2022</td>\n",
       "      <td>The Batman</td>\n",
       "      <td>3827.658</td>\n",
       "      <td>1151</td>\n",
       "      <td>popular</td>\n",
       "      <td>Mystery</td>\n",
       "    </tr>\n",
       "  </tbody>\n",
       "</table>\n",
       "</div>"
      ],
      "text/plain": [
       "   Release_Date                    Title  Popularity  Vote_Count Vote_Average  \\\n",
       "0          2021  Spider-Man: No Way Home    5083.954        8940      popular   \n",
       "1          2021  Spider-Man: No Way Home    5083.954        8940      popular   \n",
       "2          2021  Spider-Man: No Way Home    5083.954        8940      popular   \n",
       "3          2022               The Batman    3827.658        1151      popular   \n",
       "4          2022               The Batman    3827.658        1151      popular   \n",
       "\n",
       "             Genre  \n",
       "0           Action  \n",
       "1        Adventure  \n",
       "2  Science Fiction  \n",
       "3            Crime  \n",
       "4          Mystery  "
      ]
     },
     "execution_count": 11,
     "metadata": {},
     "output_type": "execute_result"
    }
   ],
   "source": [
    "# 1. Separa a string da coluna 'Genre' em uma lista de gêneros, usando ', ' como separador.\n",
    "df['Genre'] = df['Genre'].str.split(', ')\n",
    "\n",
    "# 2. Transforma o DataFrame: cria uma nova linha para cada gênero na lista e reseta o índice.\n",
    "df = df.explode('Genre').reset_index(drop=True)\n",
    "\n",
    "# 3. Exibe as 5 primeiras linhas para verificar a nova estrutura do DataFrame.\n",
    "df.head()"
   ]
  },
  {
   "cell_type": "code",
   "execution_count": 12,
   "id": "39e57525",
   "metadata": {},
   "outputs": [
    {
     "data": {
      "text/plain": [
       "CategoricalDtype(categories=['Action', 'Adventure', 'Animation', 'Comedy', 'Crime',\n",
       "                  'Documentary', 'Drama', 'Family', 'Fantasy', 'History',\n",
       "                  'Horror', 'Music', 'Mystery', 'Romance', 'Science Fiction',\n",
       "                  'TV Movie', 'Thriller', 'War', 'Western'],\n",
       ", ordered=False, categories_dtype=object)"
      ]
     },
     "execution_count": 12,
     "metadata": {},
     "output_type": "execute_result"
    }
   ],
   "source": [
    "# Converte o tipo de dado da coluna 'Genre' para 'category'.\n",
    "# Esta é uma otimização de performance e uso de memória.\n",
    "df['Genre'] = df['Genre'].astype('category')\n",
    "\n",
    "# Exibe o novo tipo de dado da coluna para confirmar a conversão.\n",
    "df['Genre'].dtypes"
   ]
  },
  {
   "cell_type": "code",
   "execution_count": 13,
   "id": "dc9b3cf3",
   "metadata": {},
   "outputs": [
    {
     "data": {
      "text/plain": [
       "Release_Date     102\n",
       "Title           9513\n",
       "Popularity      8160\n",
       "Vote_Count      3266\n",
       "Vote_Average       4\n",
       "Genre             19\n",
       "dtype: int64"
      ]
     },
     "execution_count": 13,
     "metadata": {},
     "output_type": "execute_result"
    }
   ],
   "source": [
    "# Conta a quantidade de valores únicos para cada coluna do DataFrame.\n",
    "# É útil para ter um resumo final dos dados após toda a limpeza e preparação.\n",
    "df.nunique()"
   ]
  },
  {
   "cell_type": "markdown",
   "id": "94be1419",
   "metadata": {},
   "source": [
    "## Visualização de Dados e Respostas às Questões de Negócio\n",
    "\n",
    "Com os dados devidamente limpos e pré-processados, esta seção foca na criação de visualizações para responder às questões de negócio definidas no início do projeto.\n",
    "\n",
    "Utilizaremos as bibliotecas `Seaborn` e `Matplotlib` para gerar gráficos que nos ajudem a interpretar os padrões e as tendências nos dados de forma clara e objetiva.\n",
    "\n",
    "As análises visuais a seguir abordarão:\n",
    "* **Questão 1:** A distribuição dos gêneros de filmes.\n",
    "* **Questão 2:** A contagem de votos agregada por gênero.\n",
    "* **Questão 3 & 4:** A identificação dos filmes nos extremos de popularidade.\n",
    "* **Questão 5:** A frequência de filmes lançados por ano."
   ]
  },
  {
   "cell_type": "code",
   "execution_count": 14,
   "id": "4963a6a3",
   "metadata": {},
   "outputs": [],
   "source": [
    "# Define o estilo estético para todos os gráficos que serão criados a seguir.\n",
    "# 'whitegrid' aplica um fundo branco com linhas de grade cinzas, facilitando a leitura.\n",
    "sns.set_style('whitegrid')"
   ]
  },
  {
   "cell_type": "markdown",
   "id": "a13d9bba",
   "metadata": {},
   "source": [
    "## 1. Qual o Gênero de Filme Mais Frequente?\n",
    "\n",
    "Para responder à primeira questão de negócio, utilizaremos o método `.describe()` diretamente na coluna `Genre`. \n",
    "\n",
    "Como esta coluna foi convertida para o tipo `category`, o `.describe()` gera um resumo estatístico específico para dados categóricos, que inclui:\n",
    "* `count`: Contagem total de itens.\n",
    "* `unique`: Número de categorias únicas.\n",
    "* `top`: A categoria mais comum (a moda).\n",
    "* `freq`: A frequência (contagem) em que a categoria mais comum aparece.\n",
    "\n",
    "Portanto, o valor no campo `top` nos dará diretamente a resposta para a pergunta."
   ]
  },
  {
   "cell_type": "code",
   "execution_count": 15,
   "id": "67c291d1",
   "metadata": {},
   "outputs": [
    {
     "data": {
      "text/plain": [
       "count     25793\n",
       "unique       19\n",
       "top       Drama\n",
       "freq       3744\n",
       "Name: Genre, dtype: object"
      ]
     },
     "execution_count": 15,
     "metadata": {},
     "output_type": "execute_result"
    }
   ],
   "source": [
    "df['Genre'].describe()"
   ]
  },
  {
   "cell_type": "code",
   "execution_count": 16,
   "id": "e6e7c58e",
   "metadata": {},
   "outputs": [
    {
     "data": {
      "image/png": "[encoded data removed]",
      "text/plain": [
       "<Figure size 511.111x500 with 1 Axes>"
      ]
     },
     "metadata": {},
     "output_type": "display_data"
    }
   ],
   "source": [
    "# Cria um gráfico de barras horizontal para visualizar a contagem de cada gênero.\n",
    "# 'kind=\"count\"' instrui o Seaborn a contar as ocorrências de cada item no eixo y.\n",
    "sns.catplot(y='Genre', \n",
    "            data=df, \n",
    "            kind='count',\n",
    "            # Ordena as barras da mais frequente para a menos frequente.\n",
    "            order=df['Genre'].value_counts().index,\n",
    "            # Define a cor das barras.\n",
    "            color='#4287f5')\n",
    "\n",
    "# Adiciona um título ao gráfico (com a ortografia corrigida).\n",
    "plt.title('Distribuição da Coluna de Gêneros')\n",
    "\n",
    "# Exibe o gráfico na tela.\n",
    "plt.show()"
   ]
  },
  {
   "cell_type": "markdown",
   "id": "0339e8d3",
   "metadata": {},
   "source": [
    "### Conclusão da Análise - Questão 1\n",
    "\n",
    "Confirmando a tendência observada no gráfico de distribuição, a análise numérica com o método `.describe()` permite responder com precisão à primeira questão de negócio.\n",
    "\n",
    "* **Insight Principal:** O gênero **Drama** é, com uma margem significativa, a categoria de filme mais frequente no dataset.\n",
    "\n",
    "* **Dados de Suporte:**\n",
    "    * **Gênero Mais Comum (`top`):** `Drama`\n",
    "    * **Frequência (`freq`):** 3.744 ocorrências\n",
    "    * **Total de Gêneros Únicos (`unique`):** 19\n",
    "\n",
    "**Implicação para o Negócio:**\n",
    "\n",
    "A predominância do gênero Drama reforça sua posição como um pilar central na estratégia de conteúdo da plataforma. Isso pode indicar uma demanda consistente do público ou uma estratégia de aquisição focada em um gênero de apelo amplo. Para a tomada de decisão, isso sugere que investimentos contínuos em dramas de alta qualidade são uma estratégia de baixo risco, enquanto a análise dos gêneros na \"cauda longa\" do gráfico pode revelar oportunidades em nichos de mercado ainda não saturados."
   ]
  },
  {
   "cell_type": "markdown",
   "id": "91a18518",
   "metadata": {},
   "source": [
    "## 2. Distribuição das Categorias de Avaliação (`Vote_Average`)\n",
    "\n",
    "Nesta etapa, o foco da análise é a coluna `Vote_Average`, que foi previamente transformada em categorias (`popular`, `average`, `below_avg`, `not_popular`) baseadas nos quartis da sua distribuição.\n",
    "\n",
    "O objetivo aqui é visualizar a contagem de filmes em cada uma dessas quatro categorias. Isso nos permitirá entender como o catálogo de filmes está distribuído em termos de avaliação: há um equilíbrio entre filmes com notas altas, médias e baixas, ou alguma categoria se sobressai?"
   ]
  },
  {
   "cell_type": "code",
   "execution_count": 17,
   "id": "d453235d",
   "metadata": {},
   "outputs": [
    {
     "data": {
      "image/png": "[encoded data removed]",
      "text/plain": [
       "<Figure size 511.111x500 with 1 Axes>"
      ]
     },
     "metadata": {},
     "output_type": "display_data"
    }
   ],
   "source": [
    "\n",
    "# Cria um gráfico de barras para contar quantos filmes existem em cada categoria de 'Vote_Average'.\n",
    "sns.catplot(y='Vote_Average', \n",
    "            data=df, \n",
    "            kind='count',\n",
    "            # Ordena as barras da categoria mais frequente para a menos frequente.\n",
    "            order=df['Vote_Average'].value_counts().index,\n",
    "            # Define a cor das barras.\n",
    "            color='#4287f5')\n",
    "\n",
    "# Adiciona um título ao gráfico.\n",
    "plt.title('Distribuição por Categoria de Avaliação')\n",
    "\n",
    "# Exibe o gráfico.\n",
    "plt.show()"
   ]
  },
  {
   "cell_type": "markdown",
   "id": "499120ec",
   "metadata": {},
   "source": [
    "### Insight da Análise - Distribuição das Avaliações\n",
    "\n",
    "O gráfico de contagem revela uma distribuição **extremamente equilibrada** entre as quatro categorias de avaliação. Cada grupo (`popular`, `average`, `below_avg`, `not_popular`) contém um número muito similar de filmes.\n",
    "\n",
    "**Este é um resultado esperado e confirma a eficácia do nosso método de preparação de dados.**\n",
    "\n",
    "As categorias foram criadas utilizando os quartis (os pontos de 25%, 50% e 75% da distribuição de notas), que, por definição, dividem o conjunto de dados em quatro partes de tamanhos aproximadamente iguais. As pequenas variações nas contagens são normais e ocorrem devido à forma como a função `pd.cut` lida com valores que caem exatamente nos limites dos quartis.\n",
    "\n",
    "**Implicação:** A principal conclusão desta visualização não é sobre o catálogo da Netflix em si, mas sim uma **validação da nossa etapa de engenharia de features**. Ela confirma que a categorização da coluna `Vote_Average` foi bem-sucedida e que agora possuímos quatro grupos balanceados, prontos para futuras análises comparativas."
   ]
  },
  {
   "cell_type": "markdown",
   "id": "cd159c28",
   "metadata": {},
   "source": [
    "## 3. Qual Filme Possui a Maior Popularidade?\n",
    "\n",
    "Nesta análise, o objetivo é identificar o filme com a maior pontuação de popularidade (`Popularity`) em todo o dataset. Esta métrica é um indicador chave do \"buzz\" e do alcance de um filme na plataforma, refletindo o quão comentado e assistido ele é.\n",
    "\n",
    "A análise consistirá em localizar a linha do DataFrame que corresponde ao valor máximo da coluna `Popularity` para, em seguida, extrair as informações de `Title` e `Genre` deste filme específico."
   ]
  },
  {
   "cell_type": "code",
   "execution_count": 18,
   "id": "d636f760",
   "metadata": {},
   "outputs": [
    {
     "data": {
      "text/html": [
       "<div>\n",
       "<style scoped>\n",
       "    .dataframe tbody tr th:only-of-type {\n",
       "        vertical-align: middle;\n",
       "    }\n",
       "\n",
       "    .dataframe tbody tr th {\n",
       "        vertical-align: top;\n",
       "    }\n",
       "\n",
       "    .dataframe thead th {\n",
       "        text-align: right;\n",
       "    }\n",
       "</style>\n",
       "<table border=\"1\" class=\"dataframe\">\n",
       "  <thead>\n",
       "    <tr style=\"text-align: right;\">\n",
       "      <th></th>\n",
       "      <th>Release_Date</th>\n",
       "      <th>Title</th>\n",
       "      <th>Popularity</th>\n",
       "      <th>Vote_Count</th>\n",
       "      <th>Vote_Average</th>\n",
       "      <th>Genre</th>\n",
       "    </tr>\n",
       "  </thead>\n",
       "  <tbody>\n",
       "    <tr>\n",
       "      <th>0</th>\n",
       "      <td>2021</td>\n",
       "      <td>Spider-Man: No Way Home</td>\n",
       "      <td>5083.954</td>\n",
       "      <td>8940</td>\n",
       "      <td>popular</td>\n",
       "      <td>Action</td>\n",
       "    </tr>\n",
       "    <tr>\n",
       "      <th>1</th>\n",
       "      <td>2021</td>\n",
       "      <td>Spider-Man: No Way Home</td>\n",
       "      <td>5083.954</td>\n",
       "      <td>8940</td>\n",
       "      <td>popular</td>\n",
       "      <td>Adventure</td>\n",
       "    </tr>\n",
       "    <tr>\n",
       "      <th>2</th>\n",
       "      <td>2021</td>\n",
       "      <td>Spider-Man: No Way Home</td>\n",
       "      <td>5083.954</td>\n",
       "      <td>8940</td>\n",
       "      <td>popular</td>\n",
       "      <td>Science Fiction</td>\n",
       "    </tr>\n",
       "  </tbody>\n",
       "</table>\n",
       "</div>"
      ],
      "text/plain": [
       "   Release_Date                    Title  Popularity  Vote_Count Vote_Average  \\\n",
       "0          2021  Spider-Man: No Way Home    5083.954        8940      popular   \n",
       "1          2021  Spider-Man: No Way Home    5083.954        8940      popular   \n",
       "2          2021  Spider-Man: No Way Home    5083.954        8940      popular   \n",
       "\n",
       "             Genre  \n",
       "0           Action  \n",
       "1        Adventure  \n",
       "2  Science Fiction  "
      ]
     },
     "execution_count": 18,
     "metadata": {},
     "output_type": "execute_result"
    }
   ],
   "source": [
    "# Este comando localiza o filme mais popular usando um filtro booleano.\n",
    "\n",
    "# 1. Primeiro, `df['Popularity'].max()` encontra o maior valor na coluna 'Popularity'.\n",
    "# 2. Em seguida, `df['Popularity'] == ...` cria uma condição (Verdadeiro/Falso) para cada linha.\n",
    "# 3. Finalmente, o DataFrame `df` é filtrado, retornando apenas a linha onde a condição é Verdadeira.\n",
    "df[df['Popularity'] == df['Popularity'].max()]"
   ]
  },
  {
   "cell_type": "markdown",
   "id": "88b13f42",
   "metadata": {},
   "source": [
    "### Conclusão - Filme de Maior Popularidade\n",
    "\n",
    "A consulta para encontrar o filme com a pontuação máxima de popularidade retornou o seguinte resultado.\n",
    "\n",
    "*Observação: O resultado exibe três linhas para o mesmo filme, pois nosso DataFrame foi formatado para ter uma linha para cada gênero individual.*\n",
    "\n",
    "* **Insight Principal:** O filme com a maior pontuação de popularidade no dataset é **`Spider-Man: No Way Home`**.\n",
    "\n",
    "* **Dados de Suporte:**\n",
    "    * **Pontuação de Popularidade (`max`):** 5083.954\n",
    "    * **Gêneros Associados:** `Action`, `Adventure`, `Science Fiction`\n",
    "\n",
    "**Implicação para o Negócio:**\n",
    "\n",
    "O fato de um filme de uma franquia de super-heróis de grande apelo global ocupar o topo da popularidade de forma tão expressiva é um forte indicador do tipo de conteúdo \"blockbuster\" que gera o maior engajamento. Isso reforça a validade de investimentos em grandes produções, especialmente aquelas ligadas a universos cinematográficos já estabelecidos e com uma base de fãs consolidada. A combinação dos gêneros Ação, Aventura e Ficção Científica prova ser uma fórmula de extremo sucesso para o público da plataforma."
   ]
  },
  {
   "cell_type": "markdown",
   "id": "315d4a4b",
   "metadata": {},
   "source": [
    "## 4. Qual Filme Possui a Menor Popularidade?\n",
    "\n",
    "Em contraste com a análise anterior, agora o foco é identificar o filme com a **menor** pontuação de popularidade (`Popularity`).\n",
    "\n",
    "Analisar o extremo inferior do espectro de popularidade é útil para identificar conteúdos com baixo engajamento, produções de nicho ou possíveis outliers negativos no dataset. A análise consistirá em localizar a linha do DataFrame que corresponde ao valor **mínimo** da coluna `Popularity` e extrair as informações de `Title` e `Genre` deste filme."
   ]
  },
  {
   "cell_type": "code",
   "execution_count": 19,
   "id": "66cd6ed3",
   "metadata": {},
   "outputs": [
    {
     "data": {
      "text/html": [
       "<div>\n",
       "<style scoped>\n",
       "    .dataframe tbody tr th:only-of-type {\n",
       "        vertical-align: middle;\n",
       "    }\n",
       "\n",
       "    .dataframe tbody tr th {\n",
       "        vertical-align: top;\n",
       "    }\n",
       "\n",
       "    .dataframe thead th {\n",
       "        text-align: right;\n",
       "    }\n",
       "</style>\n",
       "<table border=\"1\" class=\"dataframe\">\n",
       "  <thead>\n",
       "    <tr style=\"text-align: right;\">\n",
       "      <th></th>\n",
       "      <th>Release_Date</th>\n",
       "      <th>Title</th>\n",
       "      <th>Popularity</th>\n",
       "      <th>Vote_Count</th>\n",
       "      <th>Vote_Average</th>\n",
       "      <th>Genre</th>\n",
       "    </tr>\n",
       "  </thead>\n",
       "  <tbody>\n",
       "    <tr>\n",
       "      <th>25787</th>\n",
       "      <td>2021</td>\n",
       "      <td>The United States vs. Billie Holiday</td>\n",
       "      <td>13.354</td>\n",
       "      <td>152</td>\n",
       "      <td>average</td>\n",
       "      <td>Music</td>\n",
       "    </tr>\n",
       "    <tr>\n",
       "      <th>25788</th>\n",
       "      <td>2021</td>\n",
       "      <td>The United States vs. Billie Holiday</td>\n",
       "      <td>13.354</td>\n",
       "      <td>152</td>\n",
       "      <td>average</td>\n",
       "      <td>Drama</td>\n",
       "    </tr>\n",
       "    <tr>\n",
       "      <th>25789</th>\n",
       "      <td>2021</td>\n",
       "      <td>The United States vs. Billie Holiday</td>\n",
       "      <td>13.354</td>\n",
       "      <td>152</td>\n",
       "      <td>average</td>\n",
       "      <td>History</td>\n",
       "    </tr>\n",
       "    <tr>\n",
       "      <th>25790</th>\n",
       "      <td>1984</td>\n",
       "      <td>Threads</td>\n",
       "      <td>13.354</td>\n",
       "      <td>186</td>\n",
       "      <td>popular</td>\n",
       "      <td>War</td>\n",
       "    </tr>\n",
       "    <tr>\n",
       "      <th>25791</th>\n",
       "      <td>1984</td>\n",
       "      <td>Threads</td>\n",
       "      <td>13.354</td>\n",
       "      <td>186</td>\n",
       "      <td>popular</td>\n",
       "      <td>Drama</td>\n",
       "    </tr>\n",
       "    <tr>\n",
       "      <th>25792</th>\n",
       "      <td>1984</td>\n",
       "      <td>Threads</td>\n",
       "      <td>13.354</td>\n",
       "      <td>186</td>\n",
       "      <td>popular</td>\n",
       "      <td>Science Fiction</td>\n",
       "    </tr>\n",
       "  </tbody>\n",
       "</table>\n",
       "</div>"
      ],
      "text/plain": [
       "       Release_Date                                 Title  Popularity  \\\n",
       "25787          2021  The United States vs. Billie Holiday      13.354   \n",
       "25788          2021  The United States vs. Billie Holiday      13.354   \n",
       "25789          2021  The United States vs. Billie Holiday      13.354   \n",
       "25790          1984                               Threads      13.354   \n",
       "25791          1984                               Threads      13.354   \n",
       "25792          1984                               Threads      13.354   \n",
       "\n",
       "       Vote_Count Vote_Average            Genre  \n",
       "25787         152      average            Music  \n",
       "25788         152      average            Drama  \n",
       "25789         152      average          History  \n",
       "25790         186      popular              War  \n",
       "25791         186      popular            Drama  \n",
       "25792         186      popular  Science Fiction  "
      ]
     },
     "execution_count": 19,
     "metadata": {},
     "output_type": "execute_result"
    }
   ],
   "source": [
    "# Este comando localiza o filme menos popular, usando a mesma lógica de filtro booleano anterior.\n",
    "\n",
    "# 1. Primeiro, `df['Popularity'].min()` encontra o menor valor na coluna 'Popularity'.\n",
    "# 2. Em seguida, o DataFrame é filtrado para retornar apenas a(s) linha(s) onde a 'Popularity'\n",
    "#    é igual a esse valor mínimo encontrado.\n",
    "df[df['Popularity'] == df['Popularity'].min()]"
   ]
  },
  {
   "cell_type": "markdown",
   "id": "73e18287",
   "metadata": {},
   "source": [
    "### Conclusão - Filmes de Menor Popularidade\n",
    "\n",
    "A análise para identificar o filme com a menor pontuação de popularidade revelou um resultado inesperado: dois filmes diferentes compartilham exatamente o mesmo valor mínimo.\n",
    "\n",
    "* **Insight Principal:** Foram encontrados dois filmes empatados com a menor pontuação de popularidade no dataset: **`The United States vs. Billie Holiday`** (2021) e **`Threads`** (1984).\n",
    "\n",
    "* **Dados de Suporte:**\n",
    "    * **Pontuação de Popularidade (`min`):** `13.354`\n",
    "    * **Gêneros Associados:** `Music`, `Drama`, `History` (para o primeiro filme) e `War`, `Drama`, `Science Fiction` (para o segundo).\n",
    "\n",
    "**Implicação para o Negócio:**\n",
    "\n",
    "O fato de dois filmes tão distintos—um drama biográfico recente e um filme de guerra/ficção científica mais antigo—compartilharem a mesma pontuação mínima sugere que a baixa popularidade não está restrita a um único tipo ou era de conteúdo. Isso pode indicar um \"piso\" de popularidade no dataset para filmes de nicho ou com baixo engajamento.\n",
    "\n",
    "Essa informação é útil para a estratégia de conteúdo: em vez de simplesmente evitar um gênero específico, a decisão de remover ou tentar promover um título de baixa performance deve considerar outros fatores, como custo de licenciamento, relevância cultural ou o potencial de redescoberta por um público específico."
   ]
  },
  {
   "cell_type": "markdown",
   "id": "35d1f0a5",
   "metadata": {},
   "source": [
    "## 5. Qual Ano Teve o Maior Número de Filmes Lançados?\n",
    "\n",
    "Para a última questão de negócio, vamos analisar a distribuição de lançamentos de filmes ao longo do tempo. O objetivo é identificar o ano com o maior volume de produção cinematográfica, com base nos dados disponíveis em nosso dataset.\n",
    "\n",
    "Esta análise nos ajudará a entender os picos de atividade na indústria ou os períodos de maior aquisição de conteúdo para a plataforma. A abordagem consistirá em contar a frequência de cada ano na coluna `Release_Date` para encontrar a moda (o ano mais comum)."
   ]
  },
  {
   "cell_type": "code",
   "execution_count": 20,
   "id": "787e8ed5",
   "metadata": {},
   "outputs": [
    {
     "data": {
      "image/png": "[encoded data removed]",
      "text/plain": [
       "<Figure size 640x480 with 1 Axes>"
      ]
     },
     "metadata": {},
     "output_type": "display_data"
    }
   ],
   "source": [
    "# Cria um histograma simples diretamente da coluna 'Release_Date' para visualizar a distribuição.\n",
    "df['Release_Date'].hist()\n",
    "\n",
    "# Define o título do gráfico (com a ortografia corrigida).\n",
    "plt.title('Distribuição de Filmes por Ano de Lançamento')\n",
    "\n",
    "# Exibe o gráfico gerado na tela.\n",
    "plt.show()"
   ]
  },
  {
   "cell_type": "markdown",
   "id": "38a67e4e",
   "metadata": {},
   "source": [
    "### Insight da Análise - Tendência de Lançamentos\n",
    "\n",
    "A visualização do histograma nos oferece uma clara perspectiva sobre a tendência histórica da produção de filmes presentes no dataset.\n",
    "\n",
    "* **Insight Principal:** O gráfico demonstra um **crescimento exponencial** no número de filmes lançados ao longo do tempo. A atividade, que era mínima até a metade do século XX, começa a acelerar a partir dos anos 80 e atinge seu pico máximo na década de **2010-2020**.\n",
    "\n",
    "* **Observação Adicional:** A barra correspondente à década de 2020 é menor, o que é esperado, pois representa apenas os primeiros anos desta década (o dataset não inclui a década completa).\n",
    "\n",
    "**Implicação para o Negócio:**\n",
    "\n",
    "A esmagadora maioria do conteúdo disponível para análise foi produzida nas últimas duas a três décadas. Isso reforça a importância de focar em tendências de gêneros e popularidade de filmes mais recentes, pois eles representam o maior volume do catálogo e, provavelmente, o maior interesse do público atual. A \"cauda longa\" de filmes mais antigos, embora presente, é quantitativamente menos significativa."
   ]
  },
  {
   "cell_type": "markdown",
   "id": "43a3a885",
   "metadata": {},
   "source": [
    "# Conclusão Geral da Análise\n",
    "\n",
    "Esta análise exploratória de dados sobre o dataset de filmes da Netflix cumpriu seu objetivo de responder a questões de negócio chave através da limpeza, transformação e visualização dos dados. As etapas de preparação garantiram a integridade dos dados, e a análise subsequente revelou padrões claros sobre o catálogo de filmes.\n",
    "\n",
    "---\n",
    "### Resumo dos Principais Insights Encontrados:\n",
    "\n",
    "1.  **Gênero Predominante:** O gênero **`Drama`** é o mais representado no catálogo, aparecendo em 3.744 filmes. Isso indica sua importância como pilar central na estratégia de conteúdo da plataforma.\n",
    "\n",
    "2.  **Distribuição das Avaliações:** A distribuição de filmes entre as categorias de avaliação (`popular`, `average`, etc.) se mostrou **equilibrada**. Este é um resultado esperado e positivo, pois valida a metodologia de engenharia de features (binning por quartis) e mostra que o catálogo possui uma variedade de filmes em todas as faixas de avaliação.\n",
    "\n",
    "3.  **Pico de Popularidade:** O filme **`Spider-Man: No Way Home`** se destaca como o mais popular, confirmando o imenso poder de engajamento de grandes franquias de super-heróis e blockbusters globais.\n",
    "\n",
    "4.  **Menor Popularidade:** Dois filmes distintos, **`The United States vs. Billie Holiday`** (2021) e **`Threads`** (1984), compartilham a menor pontuação de popularidade. Isso sugere que o baixo engajamento não é restrito a um único tipo ou era de conteúdo, afetando tanto produções recentes de nicho quanto títulos mais antigos.\n",
    "\n",
    "5.  **Tendência de Produção:** A produção de filmes teve um **crescimento exponencial** ao longo das décadas, com um pico acentuado no período de **2010-2020**. Isso demonstra que o catálogo é majoritariamente composto por conteúdo recente.\n",
    "\n",
    "### Implicação Estratégica Consolidada\n",
    "\n",
    "A estratégia de conteúdo mais eficaz, com base nesta análise, parece ser um modelo híbrido: manter um alto volume de produção e aquisição no gênero **Drama** como uma base sólida e de apelo amplo, enquanto se realiza investimentos estratégicos de alto valor em **blockbusters de franquias estabelecidas** para impulsionar picos de popularidade e engajamento. O foco da plataforma em conteúdo produzido nas últimas duas décadas é evidente e deve guiar futuras análises de tendências.\n",
    "\n",
    "Este projeto serviu como um excelente exercício prático de todo o pipeline de análise de dados, desde a limpeza e preparação até a geração de insights acionáveis."
   ]
  }
 ],
 "metadata": {
  "kernelspec": {
   "display_name": "base",
   "language": "python",
   "name": "python3"
  },
  "language_info": {
   "codemirror_mode": {
    "name": "ipython",
    "version": 3
   },
   "file_extension": ".py",
   "mimetype": "text/x-python",
   "name": "python",
   "nbconvert_exporter": "python",
   "pygments_lexer": "ipython3",
   "version": "3.12.7"
  }
 },
 "nbformat": 4,
 "nbformat_minor": 5
}
